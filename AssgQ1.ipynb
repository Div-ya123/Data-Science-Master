{
 "cells": [
  {
   "cell_type": "markdown",
   "id": "89c875f6-6293-4d48-b942-de13ae709d00",
   "metadata": {},
   "source": [
    "Q1:- Who developed Python Programming Languagee?\n",
    "ans- Python was developed by Guido van Rossum"
   ]
  },
  {
   "cell_type": "markdown",
   "id": "71992256-07de-4b13-b159-942593b9bc2b",
   "metadata": {},
   "source": [
    "Q2:- which type of programming does Python support?\n",
    "ans- object-oriented programming, functional programming and structured programming"
   ]
  },
  {
   "cell_type": "markdown",
   "id": "713ea687-7e23-48b8-bba1-e78a44c68ad7",
   "metadata": {},
   "source": [
    "Q3:- Is Python case sensitive when dealing with identifiers?\n",
    "ans-  yes"
   ]
  },
  {
   "cell_type": "markdown",
   "id": "1dc58b67-1a97-4b57-bd46-f6ebf977b8ff",
   "metadata": {},
   "source": [
    "Q4. Which of the following is the correct extension of the Python file?\n",
    "ans-  .py is the extension of the Python file"
   ]
  },
  {
   "cell_type": "markdown",
   "id": "ae6ce375-5173-4f71-bcbd-d19ba03d2cab",
   "metadata": {},
   "source": [
    "Q5. Is Python code compiled or interpreted?\n",
    "ans- Python code is both compiled and interpreted"
   ]
  },
  {
   "cell_type": "markdown",
   "id": "99d5cf40-ec3b-4734-b0f7-aea12bbd94b3",
   "metadata": {},
   "source": [
    "Q6. Name a few blocks of code used to define in python language?\n",
    "ans-Indentation is used to define a block of code in python"
   ]
  },
  {
   "cell_type": "markdown",
   "id": "c29bc20e-fd20-4e74-9ca1-1dfff1758719",
   "metadata": {},
   "source": [
    "Q7. State a character used to give single-line comments in Python?\n",
    "ans- # is used for singal-line comments"
   ]
  },
  {
   "cell_type": "markdown",
   "id": "ba334807-2572-4242-936f-69d23e3519ba",
   "metadata": {},
   "source": [
    "Q8:- Mention functions which can help us to find the version of python that we are currently working on?\n",
    "ans- sys.version function.It contains information on the build number and compiler used"
   ]
  },
  {
   "cell_type": "markdown",
   "id": "b37f473a-62eb-426b-a5da-f5f0cb0e8cc3",
   "metadata": {},
   "source": [
    "Q9:- Python supports the creation of anonymous functions at runtime, using a construct called---\n",
    "ans- lambda"
   ]
  },
  {
   "cell_type": "markdown",
   "id": "b0909828-da89-4c64-a821-7b9d44d46ffb",
   "metadata": {},
   "source": [
    "Q10:-  What does pip stand for python?\n",
    "ans-  Preferred Installer Program"
   ]
  },
  {
   "cell_type": "markdown",
   "id": "0422764d-6355-4add-9b40-741ba7b7d6c0",
   "metadata": {},
   "source": [
    "Q11:- Mention a few built-in functions in python?\n",
    "ans- print(), type(),input(),max(),min(), len()"
   ]
  },
  {
   "cell_type": "markdown",
   "id": "c4ea54b7-521e-4793-80a1-bb8c12a8938a",
   "metadata": {},
   "source": [
    "Q12:-What is the maximum possible length of an identifier in Python?\n",
    "ans- Indentifiers can be of any length"
   ]
  },
  {
   "cell_type": "markdown",
   "id": "7a0b2ab8-f1bd-4dc0-b7d0-3e5c859e1fab",
   "metadata": {},
   "source": [
    "Q13:-What are the benefits of using python?\n",
    "ans: wide range of use cases.\n",
    "     Large develoer community.\n",
    "     Extensive libraries.\n",
    "     Portability"
   ]
  },
  {
   "cell_type": "markdown",
   "id": "3df7f504-c642-4f97-b376-446d1dbfeaf7",
   "metadata": {},
   "source": [
    "Q14:- how is memory managed in python?\n",
    "ans-  Memory in python is managed by python private heap space."
   ]
  },
  {
   "cell_type": "markdown",
   "id": "01bf554d-ea27-4051-a5ef-264def9e1e21",
   "metadata": {},
   "source": [
    "Q15:- how to install python on windows and set path variables?\n",
    "ans- Type \"python\" in the windows search bar and download it. Right-clicking This PC and going to Properties.\n",
    "Clicking on the Advanced system settings in the menu on the left.\n",
    "Clicking on the Environment Variables button on the bottom right.\n",
    "In the System variables section, selecting the Path variable and clicking on Edit. The next screen will show all the directories that are currently a part of the PATH variable.\n",
    "Clicking on New and entering Python’s install directory."
   ]
  },
  {
   "cell_type": "markdown",
   "id": "dff39be9-4d5c-43e4-b730-be4a62f9418e",
   "metadata": {},
   "source": [
    "Q16:- is indentation required in python?\n",
    "ans:- yes, Python uses indentation to indicate a block of code"
   ]
  }
 ],
 "metadata": {
  "kernelspec": {
   "display_name": "Python 3 (ipykernel)",
   "language": "python",
   "name": "python3"
  },
  "language_info": {
   "codemirror_mode": {
    "name": "ipython",
    "version": 3
   },
   "file_extension": ".py",
   "mimetype": "text/x-python",
   "name": "python",
   "nbconvert_exporter": "python",
   "pygments_lexer": "ipython3",
   "version": "3.10.8"
  }
 },
 "nbformat": 4,
 "nbformat_minor": 5
}
